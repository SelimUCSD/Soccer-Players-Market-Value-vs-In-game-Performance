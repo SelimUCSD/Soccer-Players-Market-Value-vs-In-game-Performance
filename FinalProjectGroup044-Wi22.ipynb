{
 "cells": [
  {
   "cell_type": "markdown",
   "metadata": {},
   "source": [
    "# COGS 108 - Soccer Players' Performances and Their Market Values"
   ]
  },
  {
   "cell_type": "markdown",
   "metadata": {},
   "source": [
    "## Video Link"
   ]
  },
  {
   "cell_type": "markdown",
   "metadata": {},
   "source": [
    "https://youtu.be/X3GQEcf7xWo"
   ]
  },
  {
   "cell_type": "markdown",
   "metadata": {},
   "source": [
    "## Permissions\n",
    "\n",
    "Place an `X` in the appropriate bracket below to specify if you would like your group's project to be made available to the public. (Note that student names will be included (but PIDs will be scraped from any groups who include their PIDs).\n",
    "\n",
    "* [  ] YES - make available\n",
    "* [ X ] NO - keep private"
   ]
  },
  {
   "cell_type": "markdown",
   "metadata": {},
   "source": [
    "# Overview"
   ]
  },
  {
   "cell_type": "markdown",
   "metadata": {},
   "source": [
    "Soccer is the world's most popular sport, with approximately 250 million players across 200 countries. Like other sports, players who play professionally are paid based on a variety of metrics such as their position, performance, and age. In this exploratory project we hope to investigate how these metrics affect a player's market value and which are most important in determining it. We find that lower age and higher minutes played positively correlate with value. For position specific metrics, we would expect most of them to be positively correlated, but some turned out to be negative. This spurs further investigation on why this may be and the factors that led to this."
   ]
  },
  {
   "cell_type": "markdown",
   "metadata": {},
   "source": [
    "# Names\n",
    "\n",
    "- Eric Manirasith\n",
    "- Brian Vi\n",
    "- Alex Liu\n",
    "- Francesco Parra\n",
    "- Selim Shaalan"
   ]
  },
  {
   "cell_type": "markdown",
   "metadata": {},
   "source": [
    "<a id='research_question'></a>\n",
    "# Research Question"
   ]
  },
  {
   "cell_type": "markdown",
   "metadata": {},
   "source": [
    "Is there a relationship between a top 5 soccer leagues' player's market value and their in-game performance during the 2019-2020 season? Their in-game performance will be gauged by specifically selected metrics based on their position."
   ]
  },
  {
   "cell_type": "markdown",
   "metadata": {},
   "source": [
    "<a id='background'></a>\n",
    "\n",
    "## Background & Prior Work"
   ]
  },
  {
   "cell_type": "markdown",
   "metadata": {},
   "source": [
    "In 2020, Borussia Dortmund signed Erling Haaland for just \\\\$22 million dollars despite Haaland scoring 17 times in the past 16 games. In the previous year Atletico Madrid signed Portuguese forward Joao Felix for \\\\$140 million dollars, who only scored 15 times almost 30 games. With the astronomical sums being thrown around these days in Soccer, teams are always looking to sign the next big player before they skyrocket in value and become unobtainable. This study aims to examine if there is a significant correlation between a players on the pitch performance, which will be examined through several metrics, and their listed market price.\n",
    "\n",
    "Prior work:\n",
    "A 2017 Study conducted by Muller, Simmons and Weinmann titled “Beyond crowd Judgements: Data-driven estimation of market value in association football” attempted to see if a Data driven approach could be used to measure player market value. They used multilevel regression analysis which included a lot of player performance metrics to see if they could produce more accurate estimates of player market value than other traditional crowdsourcing methods such as Transfermarkt, which is the usual source that most people refer to regarding player valuations. Their results showed similar predictions to Transfermarkt which hints at a correlation between performance and value.\n",
    "\n",
    "References (include links):\n",
    "- 1) https://www.sciencedirect.com/science/article/pii/S0377221717304332?via%3Dihub"
   ]
  },
  {
   "cell_type": "markdown",
   "metadata": {},
   "source": [
    "# Hypothesis\n"
   ]
  },
  {
   "cell_type": "markdown",
   "metadata": {},
   "source": [
    "We hypothesize that a player's performance will have a positive correlation with their market value, meaning the better they do on the field, the more they will be worth. A player's performance metrics can generally convey how well they are playing currently, attracting attention from teams who may want to recruit him and raising his demand."
   ]
  },
  {
   "cell_type": "markdown",
   "metadata": {},
   "source": [
    "# Dataset(s)"
   ]
  },
  {
   "cell_type": "markdown",
   "metadata": {},
   "source": [
    "- Dataset Name: Soccer players values and their statistics\n",
    "- Link to the dataset: https://www.kaggle.com/kriegsmaschine/soccer-players-values-and-their-statistics\n",
    "- Number of observations: \n",
    "\n",
    "We had a massive data set with 400 columns, so we decided to only work the variables we deemed important. The variables we decided to keep were player name, position, age, value, minutes, goals_per90, assists per90, shots on target, percentage of completed passes, passes into final third, tackles won, interceptions and clean sheets. We kept the player’s name as a sort of sanity check although it can be argued that it is not quite needed for analysis. Because transfer sums and values are not uniform across positions (expensive goalkeepers usually cost around the 20m while expensive attackers can easily cross 100m), we decided to include the position variable because it wouldn’t be fair to judge a goalkeeper by how many goals they score and other similar comparisons. The rest of the variables are frequently cited metrics that critics, analysts, and fans usually use to evaluate player performance based on position. We also kept some global variables such as age and minutes played which are universal for all players. Finally, we kept the value of the player as our observation vector which we will be evaluating based on the features we chose."
   ]
  },
  {
   "cell_type": "markdown",
   "metadata": {},
   "source": [
    "# Setup"
   ]
  },
  {
   "cell_type": "code",
   "execution_count": 145,
   "metadata": {},
   "outputs": [],
   "source": [
    "import pandas as pd\n",
    "import seaborn as sns\n",
    "import numpy as np\n",
    "import matplotlib.pyplot as plt\n",
    "from matplotlib.pyplot import figure\n",
    "import statsmodels.api as sm\n",
    "import patsy"
   ]
  },
  {
   "cell_type": "markdown",
   "metadata": {},
   "source": [
    "# Data Cleaning"
   ]
  },
  {
   "cell_type": "markdown",
   "metadata": {},
   "source": [
    "Describe your data cleaning steps here."
   ]
  },
  {
   "cell_type": "code",
   "execution_count": 51,
   "metadata": {},
   "outputs": [],
   "source": [
    "data = pd.read_csv('transfermarkt_fbref_201920.csv', delimiter=';', encoding='utf-8')"
   ]
  },
  {
   "cell_type": "markdown",
   "metadata": {},
   "source": [
    "Of the 400 columns, we select the ones that we feel are relevant for predicting market value from their level of play.\n",
    "\n",
    "The dataframe has multiple players that have a set of two different positions they play. For the purposes of cleaner data, the players with two positions have their positions sorted in alphabetical order. For example, a player who plays midfielder and forward will always have their position be listed as 'MF,FW' rather than some being 'FW,MF'."
   ]
  },
  {
   "cell_type": "code",
   "execution_count": 147,
   "metadata": {},
   "outputs": [],
   "source": [
    "cols = ['player', 'position', 'age', 'value', 'minutes', 'goals_per90', 'assists_per90', 'shots_on_target', \\\n",
    "       'passes_pct', 'tackles_won', 'interceptions', 'clean_sheets', 'save_pct']\n",
    "\n",
    "data = data[cols]\n",
    "data = data.replace({'position':{'MF,FW': 'FW,MF','MF,DF': 'DF,MF','FW,DF': 'DF,FW'}})"
   ]
  },
  {
   "cell_type": "markdown",
   "metadata": {},
   "source": [
    "The data seems to come in a cleaned format, as we can see that all of the columns contain zero null values."
   ]
  },
  {
   "cell_type": "code",
   "execution_count": 148,
   "metadata": {},
   "outputs": [
    {
     "data": {
      "text/plain": [
       "player             0\n",
       "position           0\n",
       "age                0\n",
       "value              0\n",
       "minutes            0\n",
       "goals_per90        0\n",
       "assists_per90      0\n",
       "shots_on_target    0\n",
       "passes_pct         0\n",
       "tackles_won        0\n",
       "interceptions      0\n",
       "clean_sheets       0\n",
       "save_pct           0\n",
       "dtype: int64"
      ]
     },
     "execution_count": 148,
     "metadata": {},
     "output_type": "execute_result"
    }
   ],
   "source": [
    "data.isnull().sum()"
   ]
  },
  {
   "cell_type": "markdown",
   "metadata": {},
   "source": [
    "The two percentage columns, 'passes_pct' and 'save_pct' are not standardized. We need to change 'save_pct' to the same scale as 'passes_pct'. There is some encoding issue with the 'player' column, as many players hail from countries where accents are common in names. However, their names are not a relevant variable for analyzing their market price and only serve as identifiers for each player, so that is fine."
   ]
  },
  {
   "cell_type": "code",
   "execution_count": 176,
   "metadata": {},
   "outputs": [
    {
     "data": {
      "text/html": [
       "<div>\n",
       "<style scoped>\n",
       "    .dataframe tbody tr th:only-of-type {\n",
       "        vertical-align: middle;\n",
       "    }\n",
       "\n",
       "    .dataframe tbody tr th {\n",
       "        vertical-align: top;\n",
       "    }\n",
       "\n",
       "    .dataframe thead th {\n",
       "        text-align: right;\n",
       "    }\n",
       "</style>\n",
       "<table border=\"1\" class=\"dataframe\">\n",
       "  <thead>\n",
       "    <tr style=\"text-align: right;\">\n",
       "      <th></th>\n",
       "      <th>player</th>\n",
       "      <th>position</th>\n",
       "      <th>age</th>\n",
       "      <th>value</th>\n",
       "      <th>minutes</th>\n",
       "      <th>goals_per90</th>\n",
       "      <th>assists_per90</th>\n",
       "      <th>shots_on_target</th>\n",
       "      <th>passes_pct</th>\n",
       "      <th>tackles_won</th>\n",
       "      <th>interceptions</th>\n",
       "      <th>clean_sheets</th>\n",
       "      <th>save_pct</th>\n",
       "    </tr>\n",
       "  </thead>\n",
       "  <tbody>\n",
       "    <tr>\n",
       "      <th>0</th>\n",
       "      <td>Martin Aguirregabiria</td>\n",
       "      <td>DF</td>\n",
       "      <td>23</td>\n",
       "      <td>4000000</td>\n",
       "      <td>2099</td>\n",
       "      <td>0.04</td>\n",
       "      <td>0.04</td>\n",
       "      <td>1</td>\n",
       "      <td>71.2</td>\n",
       "      <td>22</td>\n",
       "      <td>9</td>\n",
       "      <td>0</td>\n",
       "      <td>0.0</td>\n",
       "    </tr>\n",
       "    <tr>\n",
       "      <th>1</th>\n",
       "      <td>Oliver Burke</td>\n",
       "      <td>FW,MF</td>\n",
       "      <td>22</td>\n",
       "      <td>4000000</td>\n",
       "      <td>1429</td>\n",
       "      <td>0.06</td>\n",
       "      <td>0.13</td>\n",
       "      <td>9</td>\n",
       "      <td>67.9</td>\n",
       "      <td>5</td>\n",
       "      <td>6</td>\n",
       "      <td>0</td>\n",
       "      <td>0.0</td>\n",
       "    </tr>\n",
       "    <tr>\n",
       "      <th>2</th>\n",
       "      <td>VĂ­ctor Camarasa</td>\n",
       "      <td>MF</td>\n",
       "      <td>25</td>\n",
       "      <td>4000000</td>\n",
       "      <td>1293</td>\n",
       "      <td>0.00</td>\n",
       "      <td>0.07</td>\n",
       "      <td>2</td>\n",
       "      <td>80.7</td>\n",
       "      <td>14</td>\n",
       "      <td>10</td>\n",
       "      <td>0</td>\n",
       "      <td>0.0</td>\n",
       "    </tr>\n",
       "    <tr>\n",
       "      <th>3</th>\n",
       "      <td>RubĂ©n Duarte</td>\n",
       "      <td>DF</td>\n",
       "      <td>23</td>\n",
       "      <td>4000000</td>\n",
       "      <td>2663</td>\n",
       "      <td>0.00</td>\n",
       "      <td>0.03</td>\n",
       "      <td>8</td>\n",
       "      <td>71.2</td>\n",
       "      <td>38</td>\n",
       "      <td>19</td>\n",
       "      <td>0</td>\n",
       "      <td>0.0</td>\n",
       "    </tr>\n",
       "    <tr>\n",
       "      <th>4</th>\n",
       "      <td>Rodrigo Ely</td>\n",
       "      <td>DF</td>\n",
       "      <td>25</td>\n",
       "      <td>1000000</td>\n",
       "      <td>2121</td>\n",
       "      <td>0.08</td>\n",
       "      <td>0.00</td>\n",
       "      <td>3</td>\n",
       "      <td>79.5</td>\n",
       "      <td>16</td>\n",
       "      <td>12</td>\n",
       "      <td>0</td>\n",
       "      <td>0.0</td>\n",
       "    </tr>\n",
       "  </tbody>\n",
       "</table>\n",
       "</div>"
      ],
      "text/plain": [
       "                  player position  age    value  minutes  goals_per90  \\\n",
       "0  Martin Aguirregabiria       DF   23  4000000     2099         0.04   \n",
       "1           Oliver Burke    FW,MF   22  4000000     1429         0.06   \n",
       "2       VĂ­ctor Camarasa       MF   25  4000000     1293         0.00   \n",
       "3          RubĂ©n Duarte       DF   23  4000000     2663         0.00   \n",
       "4            Rodrigo Ely       DF   25  1000000     2121         0.08   \n",
       "\n",
       "   assists_per90  shots_on_target  passes_pct  tackles_won  interceptions  \\\n",
       "0           0.04                1        71.2           22              9   \n",
       "1           0.13                9        67.9            5              6   \n",
       "2           0.07                2        80.7           14             10   \n",
       "3           0.03                8        71.2           38             19   \n",
       "4           0.00                3        79.5           16             12   \n",
       "\n",
       "   clean_sheets  save_pct  \n",
       "0             0       0.0  \n",
       "1             0       0.0  \n",
       "2             0       0.0  \n",
       "3             0       0.0  \n",
       "4             0       0.0  "
      ]
     },
     "execution_count": 176,
     "metadata": {},
     "output_type": "execute_result"
    }
   ],
   "source": [
    "data.head()"
   ]
  },
  {
   "cell_type": "code",
   "execution_count": 150,
   "metadata": {},
   "outputs": [],
   "source": [
    "data['save_pct'] = data['save_pct']*100"
   ]
  },
  {
   "cell_type": "markdown",
   "metadata": {},
   "source": [
    "We can visualize the descriptive statistics of all numerical variables. For all of the position-focused performance metrics, the statistics seem sensible. The only outlier from these variables is in the 'age' column, where there is an outlier player whose age is 0 years old. We can clean this column by removing players whose ages are under 10, as while it is possible that a high schooler is on track to be scouted and trained for the professional league, it is unlikely that anyone as young as 10 will have played at all."
   ]
  },
  {
   "cell_type": "code",
   "execution_count": 151,
   "metadata": {},
   "outputs": [
    {
     "data": {
      "text/html": [
       "<div>\n",
       "<style scoped>\n",
       "    .dataframe tbody tr th:only-of-type {\n",
       "        vertical-align: middle;\n",
       "    }\n",
       "\n",
       "    .dataframe tbody tr th {\n",
       "        vertical-align: top;\n",
       "    }\n",
       "\n",
       "    .dataframe thead th {\n",
       "        text-align: right;\n",
       "    }\n",
       "</style>\n",
       "<table border=\"1\" class=\"dataframe\">\n",
       "  <thead>\n",
       "    <tr style=\"text-align: right;\">\n",
       "      <th></th>\n",
       "      <th>age</th>\n",
       "      <th>value</th>\n",
       "      <th>minutes</th>\n",
       "      <th>goals_per90</th>\n",
       "      <th>assists_per90</th>\n",
       "      <th>shots_on_target</th>\n",
       "      <th>passes_pct</th>\n",
       "      <th>tackles_won</th>\n",
       "      <th>interceptions</th>\n",
       "      <th>clean_sheets</th>\n",
       "      <th>save_pct</th>\n",
       "    </tr>\n",
       "  </thead>\n",
       "  <tbody>\n",
       "    <tr>\n",
       "      <th>count</th>\n",
       "      <td>2641.000000</td>\n",
       "      <td>2.641000e+03</td>\n",
       "      <td>2641.000000</td>\n",
       "      <td>2641.000000</td>\n",
       "      <td>2641.000000</td>\n",
       "      <td>2641.00000</td>\n",
       "      <td>2641.000000</td>\n",
       "      <td>2641.000000</td>\n",
       "      <td>2641.000000</td>\n",
       "      <td>2641.000000</td>\n",
       "      <td>2641.000000</td>\n",
       "    </tr>\n",
       "    <tr>\n",
       "      <th>mean</th>\n",
       "      <td>25.345702</td>\n",
       "      <td>9.581472e+06</td>\n",
       "      <td>1287.281711</td>\n",
       "      <td>0.119216</td>\n",
       "      <td>0.078963</td>\n",
       "      <td>5.41613</td>\n",
       "      <td>77.224801</td>\n",
       "      <td>14.076108</td>\n",
       "      <td>9.506626</td>\n",
       "      <td>0.337751</td>\n",
       "      <td>486.467247</td>\n",
       "    </tr>\n",
       "    <tr>\n",
       "      <th>std</th>\n",
       "      <td>4.439636</td>\n",
       "      <td>1.490686e+07</td>\n",
       "      <td>947.012419</td>\n",
       "      <td>0.315225</td>\n",
       "      <td>0.138942</td>\n",
       "      <td>7.99824</td>\n",
       "      <td>11.285120</td>\n",
       "      <td>13.974242</td>\n",
       "      <td>10.013214</td>\n",
       "      <td>1.722261</td>\n",
       "      <td>1777.059021</td>\n",
       "    </tr>\n",
       "    <tr>\n",
       "      <th>min</th>\n",
       "      <td>14.000000</td>\n",
       "      <td>5.000000e+01</td>\n",
       "      <td>1.000000</td>\n",
       "      <td>0.000000</td>\n",
       "      <td>0.000000</td>\n",
       "      <td>0.00000</td>\n",
       "      <td>0.000000</td>\n",
       "      <td>0.000000</td>\n",
       "      <td>0.000000</td>\n",
       "      <td>0.000000</td>\n",
       "      <td>0.000000</td>\n",
       "    </tr>\n",
       "    <tr>\n",
       "      <th>25%</th>\n",
       "      <td>22.000000</td>\n",
       "      <td>1.000000e+06</td>\n",
       "      <td>430.000000</td>\n",
       "      <td>0.000000</td>\n",
       "      <td>0.000000</td>\n",
       "      <td>0.00000</td>\n",
       "      <td>72.000000</td>\n",
       "      <td>2.000000</td>\n",
       "      <td>1.000000</td>\n",
       "      <td>0.000000</td>\n",
       "      <td>0.000000</td>\n",
       "    </tr>\n",
       "    <tr>\n",
       "      <th>50%</th>\n",
       "      <td>25.000000</td>\n",
       "      <td>4.000000e+06</td>\n",
       "      <td>1183.000000</td>\n",
       "      <td>0.000000</td>\n",
       "      <td>0.000000</td>\n",
       "      <td>2.00000</td>\n",
       "      <td>78.200000</td>\n",
       "      <td>10.000000</td>\n",
       "      <td>6.000000</td>\n",
       "      <td>0.000000</td>\n",
       "      <td>0.000000</td>\n",
       "    </tr>\n",
       "    <tr>\n",
       "      <th>75%</th>\n",
       "      <td>28.000000</td>\n",
       "      <td>1.200000e+07</td>\n",
       "      <td>2051.000000</td>\n",
       "      <td>0.150000</td>\n",
       "      <td>0.110000</td>\n",
       "      <td>7.00000</td>\n",
       "      <td>84.500000</td>\n",
       "      <td>22.000000</td>\n",
       "      <td>15.000000</td>\n",
       "      <td>0.000000</td>\n",
       "      <td>0.000000</td>\n",
       "    </tr>\n",
       "    <tr>\n",
       "      <th>max</th>\n",
       "      <td>41.000000</td>\n",
       "      <td>1.800000e+08</td>\n",
       "      <td>3420.000000</td>\n",
       "      <td>10.000000</td>\n",
       "      <td>1.760000</td>\n",
       "      <td>67.00000</td>\n",
       "      <td>100.000000</td>\n",
       "      <td>89.000000</td>\n",
       "      <td>59.000000</td>\n",
       "      <td>18.000000</td>\n",
       "      <td>10000.000000</td>\n",
       "    </tr>\n",
       "  </tbody>\n",
       "</table>\n",
       "</div>"
      ],
      "text/plain": [
       "               age         value      minutes  goals_per90  assists_per90  \\\n",
       "count  2641.000000  2.641000e+03  2641.000000  2641.000000    2641.000000   \n",
       "mean     25.345702  9.581472e+06  1287.281711     0.119216       0.078963   \n",
       "std       4.439636  1.490686e+07   947.012419     0.315225       0.138942   \n",
       "min      14.000000  5.000000e+01     1.000000     0.000000       0.000000   \n",
       "25%      22.000000  1.000000e+06   430.000000     0.000000       0.000000   \n",
       "50%      25.000000  4.000000e+06  1183.000000     0.000000       0.000000   \n",
       "75%      28.000000  1.200000e+07  2051.000000     0.150000       0.110000   \n",
       "max      41.000000  1.800000e+08  3420.000000    10.000000       1.760000   \n",
       "\n",
       "       shots_on_target   passes_pct  tackles_won  interceptions  clean_sheets  \\\n",
       "count       2641.00000  2641.000000  2641.000000    2641.000000   2641.000000   \n",
       "mean           5.41613    77.224801    14.076108       9.506626      0.337751   \n",
       "std            7.99824    11.285120    13.974242      10.013214      1.722261   \n",
       "min            0.00000     0.000000     0.000000       0.000000      0.000000   \n",
       "25%            0.00000    72.000000     2.000000       1.000000      0.000000   \n",
       "50%            2.00000    78.200000    10.000000       6.000000      0.000000   \n",
       "75%            7.00000    84.500000    22.000000      15.000000      0.000000   \n",
       "max           67.00000   100.000000    89.000000      59.000000     18.000000   \n",
       "\n",
       "           save_pct  \n",
       "count   2641.000000  \n",
       "mean     486.467247  \n",
       "std     1777.059021  \n",
       "min        0.000000  \n",
       "25%        0.000000  \n",
       "50%        0.000000  \n",
       "75%        0.000000  \n",
       "max    10000.000000  "
      ]
     },
     "execution_count": 151,
     "metadata": {},
     "output_type": "execute_result"
    }
   ],
   "source": [
    "data[data.columns[2:]].describe()"
   ]
  },
  {
   "cell_type": "code",
   "execution_count": 152,
   "metadata": {},
   "outputs": [
    {
     "data": {
      "text/html": [
       "<div>\n",
       "<style scoped>\n",
       "    .dataframe tbody tr th:only-of-type {\n",
       "        vertical-align: middle;\n",
       "    }\n",
       "\n",
       "    .dataframe tbody tr th {\n",
       "        vertical-align: top;\n",
       "    }\n",
       "\n",
       "    .dataframe thead th {\n",
       "        text-align: right;\n",
       "    }\n",
       "</style>\n",
       "<table border=\"1\" class=\"dataframe\">\n",
       "  <thead>\n",
       "    <tr style=\"text-align: right;\">\n",
       "      <th></th>\n",
       "      <th>player</th>\n",
       "      <th>position</th>\n",
       "      <th>age</th>\n",
       "      <th>value</th>\n",
       "      <th>minutes</th>\n",
       "      <th>goals_per90</th>\n",
       "      <th>assists_per90</th>\n",
       "      <th>shots_on_target</th>\n",
       "      <th>passes_pct</th>\n",
       "      <th>tackles_won</th>\n",
       "      <th>interceptions</th>\n",
       "      <th>clean_sheets</th>\n",
       "      <th>save_pct</th>\n",
       "    </tr>\n",
       "  </thead>\n",
       "  <tbody>\n",
       "    <tr>\n",
       "      <th>0</th>\n",
       "      <td>Martin Aguirregabiria</td>\n",
       "      <td>DF</td>\n",
       "      <td>23</td>\n",
       "      <td>4000000</td>\n",
       "      <td>2099</td>\n",
       "      <td>0.04</td>\n",
       "      <td>0.04</td>\n",
       "      <td>1</td>\n",
       "      <td>71.2</td>\n",
       "      <td>22</td>\n",
       "      <td>9</td>\n",
       "      <td>0</td>\n",
       "      <td>0.0</td>\n",
       "    </tr>\n",
       "    <tr>\n",
       "      <th>1</th>\n",
       "      <td>Oliver Burke</td>\n",
       "      <td>FW,MF</td>\n",
       "      <td>22</td>\n",
       "      <td>4000000</td>\n",
       "      <td>1429</td>\n",
       "      <td>0.06</td>\n",
       "      <td>0.13</td>\n",
       "      <td>9</td>\n",
       "      <td>67.9</td>\n",
       "      <td>5</td>\n",
       "      <td>6</td>\n",
       "      <td>0</td>\n",
       "      <td>0.0</td>\n",
       "    </tr>\n",
       "    <tr>\n",
       "      <th>2</th>\n",
       "      <td>VĂ­ctor Camarasa</td>\n",
       "      <td>MF</td>\n",
       "      <td>25</td>\n",
       "      <td>4000000</td>\n",
       "      <td>1293</td>\n",
       "      <td>0.00</td>\n",
       "      <td>0.07</td>\n",
       "      <td>2</td>\n",
       "      <td>80.7</td>\n",
       "      <td>14</td>\n",
       "      <td>10</td>\n",
       "      <td>0</td>\n",
       "      <td>0.0</td>\n",
       "    </tr>\n",
       "    <tr>\n",
       "      <th>3</th>\n",
       "      <td>RubĂ©n Duarte</td>\n",
       "      <td>DF</td>\n",
       "      <td>23</td>\n",
       "      <td>4000000</td>\n",
       "      <td>2663</td>\n",
       "      <td>0.00</td>\n",
       "      <td>0.03</td>\n",
       "      <td>8</td>\n",
       "      <td>71.2</td>\n",
       "      <td>38</td>\n",
       "      <td>19</td>\n",
       "      <td>0</td>\n",
       "      <td>0.0</td>\n",
       "    </tr>\n",
       "    <tr>\n",
       "      <th>4</th>\n",
       "      <td>Rodrigo Ely</td>\n",
       "      <td>DF</td>\n",
       "      <td>25</td>\n",
       "      <td>1000000</td>\n",
       "      <td>2121</td>\n",
       "      <td>0.08</td>\n",
       "      <td>0.00</td>\n",
       "      <td>3</td>\n",
       "      <td>79.5</td>\n",
       "      <td>16</td>\n",
       "      <td>12</td>\n",
       "      <td>0</td>\n",
       "      <td>0.0</td>\n",
       "    </tr>\n",
       "  </tbody>\n",
       "</table>\n",
       "</div>"
      ],
      "text/plain": [
       "                  player position  age    value  minutes  goals_per90  \\\n",
       "0  Martin Aguirregabiria       DF   23  4000000     2099         0.04   \n",
       "1           Oliver Burke    FW,MF   22  4000000     1429         0.06   \n",
       "2       VĂ­ctor Camarasa       MF   25  4000000     1293         0.00   \n",
       "3          RubĂ©n Duarte       DF   23  4000000     2663         0.00   \n",
       "4            Rodrigo Ely       DF   25  1000000     2121         0.08   \n",
       "\n",
       "   assists_per90  shots_on_target  passes_pct  tackles_won  interceptions  \\\n",
       "0           0.04                1        71.2           22              9   \n",
       "1           0.13                9        67.9            5              6   \n",
       "2           0.07                2        80.7           14             10   \n",
       "3           0.03                8        71.2           38             19   \n",
       "4           0.00                3        79.5           16             12   \n",
       "\n",
       "   clean_sheets  save_pct  \n",
       "0             0       0.0  \n",
       "1             0       0.0  \n",
       "2             0       0.0  \n",
       "3             0       0.0  \n",
       "4             0       0.0  "
      ]
     },
     "execution_count": 152,
     "metadata": {},
     "output_type": "execute_result"
    }
   ],
   "source": [
    "data = data[data['age'] > 10]\n",
    "data.head()"
   ]
  },
  {
   "cell_type": "markdown",
   "metadata": {},
   "source": [
    "For the purpose of our research, we have to first separate the data about the players into the positions that they play. It wouldn't make sense to include some metrics in the analysis for certain positions, such as goals_per90 for goalkeepers given the fact that their task on the field lies elsewhere. We choose to still include standard metrics describing metadata for each player, such as their name, position, and age. Due to the fact that a player can be fielded for multiple positions, these players will be double counted."
   ]
  },
  {
   "cell_type": "code",
   "execution_count": 153,
   "metadata": {},
   "outputs": [],
   "source": [
    "std_metrics = ['player', 'position', 'age', 'value', 'minutes']\n",
    "\n",
    "df_metrics = ['interceptions', 'tackles_won']\n",
    "fw_metrics = ['goals_per90', 'assists_per90', 'shots_on_target']\n",
    "gk_metrics = ['clean_sheets', 'save_pct']\n",
    "mf_metrics = ['assists_per90', 'passes_pct', 'interceptions']\n",
    "\n",
    "players_df = data[data['position'].str.contains('DF')][std_metrics + df_metrics].reset_index(drop=True)\n",
    "players_fw = data[data['position'].str.contains('FW')][std_metrics + fw_metrics].reset_index(drop=True)\n",
    "players_gk = data[data['position'].str.contains('GK')][std_metrics + gk_metrics].reset_index(drop=True)\n",
    "players_mf = data[data['position'].str.contains('MF')][std_metrics + mf_metrics].reset_index(drop=True)"
   ]
  },
  {
   "cell_type": "markdown",
   "metadata": {},
   "source": [
    "We choose a pairplot to try to explore the individual trends unique to each position, i.e the trends of metrics\n",
    "that are fundamental to gauge a player's performance in that specific position. A pairplot is suitable for this\n",
    "exploration because it allows us to visualize surface level information based on all possible variables included."
   ]
  },
  {
   "cell_type": "code",
   "execution_count": 154,
   "metadata": {},
   "outputs": [
    {
     "data": {
      "text/plain": [
       "<seaborn.axisgrid.PairGrid at 0x189155ddb80>"
      ]
     },
     "execution_count": 154,
     "metadata": {},
     "output_type": "execute_result"
    },
    {
     "data": {
      "image/png": "[encoded data removed]",
      "text/plain": [
       "<Figure size 180x540 with 3 Axes>"
      ]
     },
     "metadata": {
      "needs_background": "light"
     },
     "output_type": "display_data"
    }
   ],
   "source": [
    "sns.pairplot(data = players_df, y_vars = ['age'] + df_metrics, x_vars = 'value')"
   ]
  },
  {
   "cell_type": "code",
   "execution_count": 155,
   "metadata": {},
   "outputs": [
    {
     "data": {
      "text/plain": [
       "<seaborn.axisgrid.PairGrid at 0x18915696b80>"
      ]
     },
     "execution_count": 155,
     "metadata": {},
     "output_type": "execute_result"
    },
    {
     "data": {
      "image/png": "[encoded data removed]",
      "text/plain": [
       "<Figure size 180x720 with 4 Axes>"
      ]
     },
     "metadata": {
      "needs_background": "light"
     },
     "output_type": "display_data"
    }
   ],
   "source": [
    "sns.pairplot(data = players_fw, y_vars = ['age'] + fw_metrics, x_vars = 'value')"
   ]
  },
  {
   "cell_type": "code",
   "execution_count": 156,
   "metadata": {
    "scrolled": false
   },
   "outputs": [
    {
     "data": {
      "text/plain": [
       "<seaborn.axisgrid.PairGrid at 0x189157e7e20>"
      ]
     },
     "execution_count": 156,
     "metadata": {},
     "output_type": "execute_result"
    },
    {
     "data": {
      "image/png": "[encoded data removed]",
      "text/plain": [
       "<Figure size 180x540 with 3 Axes>"
      ]
     },
     "metadata": {
      "needs_background": "light"
     },
     "output_type": "display_data"
    }
   ],
   "source": [
    "sns.pairplot(data = players_gk, y_vars = ['age'] + gk_metrics, x_vars = 'value')"
   ]
  },
  {
   "cell_type": "code",
   "execution_count": 157,
   "metadata": {},
   "outputs": [
    {
     "data": {
      "text/plain": [
       "<seaborn.axisgrid.PairGrid at 0x189156d4070>"
      ]
     },
     "execution_count": 157,
     "metadata": {},
     "output_type": "execute_result"
    },
    {
     "data": {
      "image/png": "[encoded data removed]",
      "text/plain": [
       "<Figure size 180x720 with 4 Axes>"
      ]
     },
     "metadata": {
      "needs_background": "light"
     },
     "output_type": "display_data"
    }
   ],
   "source": [
    "sns.pairplot(data = players_mf, y_vars = ['age'] + mf_metrics, x_vars = 'value')"
   ]
  },
  {
   "cell_type": "markdown",
   "metadata": {},
   "source": [
    "From the pairplots that we generated, the second column plots each variable against the market values of the players. For the standard variable, age, we can visually infer that there is a weak negative correlation that holds true for fowards, midfielders, and defenders where the higher valued players for these positions lie in the golden range of 25-30 years of age. This may be due to how a player older than this range may be perceived to be past their physical peak compared to a younger one below this range, but the latter may not have as much value because they have less experience on the field. For goalkeepers, the range for higher value players is even smaller, which may be due to how there is only one goalkeeper while other positions have several.\n",
    "\n",
    "For position specific metrics, there seem to be less variables that correlate with being a higher priced player. Starting with defenders, the distribution of 'interceptions' and 'tackles_won' is continuously clustered on the left, regardless of how high those statistics are, indicating that they do not correlate much with value. There are highly-valued players with both high and low interceptions and tackles won. \n",
    "\n",
    "For forwards, the 'goals_per90' and 'assists_per90' metrics are low by nature because there just aren't that many goals happening per game. On the other hand, 'shots_on_target' seems positively correlated with player value because it is basically what the forward is responsible for. We can see that for the highest valued players, they tend to have higher shots on targets than those who are lower.\n",
    "\n",
    "Moving our focus towards goalkeepers, we can see that there is almost assuredly a positive correlation between 'clean_sheets' and market value. A goalkeeper's clean sheet counts exemplifies their value when playing in that position, showing that they are consistent over the course of a game and how many games that they can hold out with that consistency. Clean sheets are also a team effort, so a high clean sheet could mean that the goalkeeper is on a good team, which inherently adds to their value. 'save_pct' can be deceptive of a goalkeeper's performance because it is too dependent on the level of play (there may be more shots taken at lower levels than at higher levels). However, most players, from the lowest to highest valued ones, uphold a standard of around 70-80% save percentage.\n",
    "\n",
    "Finally, for midfielders, we see the same trends as with defenders, where the variables are not really correlated with value. It is interesting to note that the 'pass_pct' clusters around 80%, which like the 'save_pct' for goalkeepers, indicates an expected level of play for their respective position."
   ]
  },
  {
   "cell_type": "markdown",
   "metadata": {},
   "source": [
    "# Data Analysis & Results"
   ]
  },
  {
   "cell_type": "markdown",
   "metadata": {},
   "source": [
    "### Analysis on variables that players have less control over"
   ]
  },
  {
   "cell_type": "markdown",
   "metadata": {},
   "source": [
    "With our analysis, we acknowledge that there is an obvious \"well, of course if you perform better as a player, they value you more!\" We would also like to draw focus to the factors that players have much less control over, such as 'age' and 'minutes' and cannot be overcome by simply \"getting good.\" While players can have control over 'minutes', they can also get time off the field due to injuries or if the coach decides that he shouldn't get fielded for this specific game."
   ]
  },
  {
   "cell_type": "markdown",
   "metadata": {},
   "source": [
    "First, we can look at the distribution of values for all players across all positions. The lines below indicate the cutoff point for a specific percentile, with 'r' (red) being the 50th percentile, 'g' (green) being the 75th percentile, 'b' (dark blue) being the 90th percentile, 'm' (magenta) being the 95th percentile, and 'y' (yellow) being the 99th percentile. This shows how extremely top heavy the soccer league is. Most players are valued at only a fraction of what the top players are valued at."
   ]
  },
  {
   "cell_type": "code",
   "execution_count": 178,
   "metadata": {},
   "outputs": [
    {
     "name": "stdout",
     "output_type": "stream",
     "text": [
      "Cutoffs in value: [4000000.0, 12000000.0, 25000000.0, 40000000.0, 72000000.0]\n"
     ]
    },
    {
     "data": {
      "image/png": "[encoded data removed]",
      "text/plain": [
       "<Figure size 1080x432 with 1 Axes>"
      ]
     },
     "metadata": {
      "needs_background": "light"
     },
     "output_type": "display_data"
    }
   ],
   "source": [
    "figure(figsize=(15, 6))\n",
    "sns.histplot(data['value'])\n",
    "plt.axvline(x = data['value'].quantile(.50), linewidth=3, color='r')\n",
    "plt.axvline(x = data['value'].quantile(.75), linewidth=3, color='g')\n",
    "plt.axvline(x = data['value'].quantile(.90), linewidth=3, color='b')\n",
    "plt.axvline(x = data['value'].quantile(.95), linewidth=3, color='m')\n",
    "plt.axvline(x = data['value'].quantile(.99), linewidth=3, color='y')\n",
    "plt.suptitle('The distribution of market values for all players')\n",
    "\n",
    "print('Cutoffs in value:', [data['value'].quantile(.50), data['value'].quantile(.75), data['value'].quantile(.90), \\\n",
    "      data['value'].quantile(.95), data['value'].quantile(.99)])"
   ]
  },
  {
   "cell_type": "markdown",
   "metadata": {},
   "source": [
    "To make a subset of our data with this focus, we first take the top 150 earners from every position and aggregate them in one data set. We find that the 'minutes' variable is well distributed, but 'age' suffers from sample size issues, specifically in the range of anyone younger than 19 years and anyone older than 32 years. We remove these from our data set."
   ]
  },
  {
   "cell_type": "code",
   "execution_count": 216,
   "metadata": {},
   "outputs": [],
   "source": [
    "top_k = 150\n",
    "\n",
    "top_df = players_df.sort_values('value', ascending=False)[:top_k].reset_index(drop=True)\n",
    "top_fw = players_fw.sort_values('value', ascending=False)[:top_k].reset_index(drop=True)\n",
    "top_gk = players_gk.sort_values('value', ascending=False)[:top_k].reset_index(drop=True)\n",
    "top_mf = players_mf.sort_values('value', ascending=False)[:top_k].reset_index(drop=True)\n",
    "\n",
    "top_all = pd.concat([top_df, top_fw, top_gk, top_mf])[['player', 'position', 'age', 'value', 'minutes']] \\\n",
    "    .reset_index(drop=True)\n",
    "\n",
    "top_all = top_all[(top_all['age'] > 18) & (top_all['age'] < 33)]"
   ]
  },
  {
   "cell_type": "code",
   "execution_count": 218,
   "metadata": {},
   "outputs": [
    {
     "data": {
      "text/plain": [
       "<AxesSubplot:xlabel='age', ylabel='Count'>"
      ]
     },
     "execution_count": 218,
     "metadata": {},
     "output_type": "execute_result"
    },
    {
     "data": {
      "image/png": "[encoded data removed]",
      "text/plain": [
       "<Figure size 432x288 with 1 Axes>"
      ]
     },
     "metadata": {
      "needs_background": "light"
     },
     "output_type": "display_data"
    }
   ],
   "source": [
    "sns.histplot(data['age'])"
   ]
  },
  {
   "cell_type": "code",
   "execution_count": 215,
   "metadata": {
    "scrolled": false
   },
   "outputs": [
    {
     "data": {
      "text/plain": [
       "Text(0.5, 0.98, 'Market value against Age')"
      ]
     },
     "execution_count": 215,
     "metadata": {},
     "output_type": "execute_result"
    },
    {
     "data": {
      "image/png": "[encoded data removed]",
      "text/plain": [
       "<Figure size 1080x432 with 1 Axes>"
      ]
     },
     "metadata": {
      "needs_background": "light"
     },
     "output_type": "display_data"
    }
   ],
   "source": [
    "figure(figsize=(15, 6))\n",
    "sns.barplot(data=top_all, x='age', y='value')\n",
    "\n",
    "plt.suptitle('Market value against Age')"
   ]
  },
  {
   "cell_type": "markdown",
   "metadata": {},
   "source": [
    "With this bar plot, we can see that most players are within this golden range of being in your 20s. There seems to be a slight dip with players of ages 21-26, but most players also fall into this age range. Given how top heavy the market valuation for soccer players is, it makes sense that more representation for some category may correlate with lower market values because most players aren't worth that much."
   ]
  },
  {
   "cell_type": "code",
   "execution_count": 204,
   "metadata": {},
   "outputs": [
    {
     "data": {
      "text/plain": [
       "Text(0.5, 0.98, 'Market value against Minutes')"
      ]
     },
     "execution_count": 204,
     "metadata": {},
     "output_type": "execute_result"
    },
    {
     "data": {
      "text/plain": [
       "<Figure size 1008x432 with 0 Axes>"
      ]
     },
     "metadata": {},
     "output_type": "display_data"
    },
    {
     "data": {
      "image/png": "[encoded data removed]",
      "text/plain": [
       "<Figure size 360x360 with 1 Axes>"
      ]
     },
     "metadata": {
      "needs_background": "light"
     },
     "output_type": "display_data"
    }
   ],
   "source": [
    "figure(figsize=(14, 6))\n",
    "sns.lmplot(data=top_all, x='minutes', y='value', line_kws={'color': 'red'})\n",
    "plt.suptitle('Market value against Minutes')"
   ]
  },
  {
   "cell_type": "markdown",
   "metadata": {},
   "source": [
    "As shown above, there is a positive correlation between minutes and value, as we had expected. The more play time a player has, the more they can show off their good play or build experience, so they might be worth more due to this."
   ]
  },
  {
   "cell_type": "markdown",
   "metadata": {},
   "source": [
    "### Further analysis on variables correlated with value"
   ]
  },
  {
   "cell_type": "markdown",
   "metadata": {},
   "source": [
    "We perform a basic OLS on the \"hard to control\" variables that were previously mentioned.\n",
    "\n",
    "From our OLS results for every position we can see that younger age and more minutes lead to higher valued players."
   ]
  },
  {
   "cell_type": "code",
   "execution_count": 172,
   "metadata": {},
   "outputs": [
    {
     "data": {
      "text/html": [
       "<table class=\"simpletable\">\n",
       "<caption>OLS Regression Results</caption>\n",
       "<tr>\n",
       "  <th>Dep. Variable:</th>          <td>value</td>      <th>  R-squared:         </th> <td>   0.180</td> \n",
       "</tr>\n",
       "<tr>\n",
       "  <th>Model:</th>                   <td>OLS</td>       <th>  Adj. R-squared:    </th> <td>   0.179</td> \n",
       "</tr>\n",
       "<tr>\n",
       "  <th>Method:</th>             <td>Least Squares</td>  <th>  F-statistic:       </th> <td>   289.2</td> \n",
       "</tr>\n",
       "<tr>\n",
       "  <th>Date:</th>             <td>Sun, 13 Mar 2022</td> <th>  Prob (F-statistic):</th> <td>2.69e-114</td>\n",
       "</tr>\n",
       "<tr>\n",
       "  <th>Time:</th>                 <td>16:49:10</td>     <th>  Log-Likelihood:    </th> <td> -47107.</td> \n",
       "</tr>\n",
       "<tr>\n",
       "  <th>No. Observations:</th>      <td>  2641</td>      <th>  AIC:               </th> <td>9.422e+04</td>\n",
       "</tr>\n",
       "<tr>\n",
       "  <th>Df Residuals:</th>          <td>  2638</td>      <th>  BIC:               </th> <td>9.424e+04</td>\n",
       "</tr>\n",
       "<tr>\n",
       "  <th>Df Model:</th>              <td>     2</td>      <th>                     </th>     <td> </td>    \n",
       "</tr>\n",
       "<tr>\n",
       "  <th>Covariance Type:</th>      <td>nonrobust</td>    <th>                     </th>     <td> </td>    \n",
       "</tr>\n",
       "</table>\n",
       "<table class=\"simpletable\">\n",
       "<tr>\n",
       "      <td></td>         <th>coef</th>     <th>std err</th>      <th>t</th>      <th>P>|t|</th>  <th>[0.025</th>    <th>0.975]</th>  \n",
       "</tr>\n",
       "<tr>\n",
       "  <th>Intercept</th> <td> 1.948e+07</td> <td> 1.52e+06</td> <td>   12.790</td> <td> 0.000</td> <td> 1.65e+07</td> <td> 2.25e+07</td>\n",
       "</tr>\n",
       "<tr>\n",
       "  <th>age</th>       <td>-7.273e+05</td> <td>  6.1e+04</td> <td>  -11.916</td> <td> 0.000</td> <td>-8.47e+05</td> <td>-6.08e+05</td>\n",
       "</tr>\n",
       "<tr>\n",
       "  <th>minutes</th>   <td> 6627.6153</td> <td>  286.138</td> <td>   23.162</td> <td> 0.000</td> <td> 6066.538</td> <td> 7188.693</td>\n",
       "</tr>\n",
       "</table>\n",
       "<table class=\"simpletable\">\n",
       "<tr>\n",
       "  <th>Omnibus:</th>       <td>2151.588</td> <th>  Durbin-Watson:     </th> <td>   1.200</td> \n",
       "</tr>\n",
       "<tr>\n",
       "  <th>Prob(Omnibus):</th>  <td> 0.000</td>  <th>  Jarque-Bera (JB):  </th> <td>65318.317</td>\n",
       "</tr>\n",
       "<tr>\n",
       "  <th>Skew:</th>           <td> 3.689</td>  <th>  Prob(JB):          </th> <td>    0.00</td> \n",
       "</tr>\n",
       "<tr>\n",
       "  <th>Kurtosis:</th>       <td>26.220</td>  <th>  Cond. No.          </th> <td>9.27e+03</td> \n",
       "</tr>\n",
       "</table><br/><br/>Notes:<br/>[1] Standard Errors assume that the covariance matrix of the errors is correctly specified.<br/>[2] The condition number is large, 9.27e+03. This might indicate that there are<br/>strong multicollinearity or other numerical problems."
      ],
      "text/plain": [
       "<class 'statsmodels.iolib.summary.Summary'>\n",
       "\"\"\"\n",
       "                            OLS Regression Results                            \n",
       "==============================================================================\n",
       "Dep. Variable:                  value   R-squared:                       0.180\n",
       "Model:                            OLS   Adj. R-squared:                  0.179\n",
       "Method:                 Least Squares   F-statistic:                     289.2\n",
       "Date:                Sun, 13 Mar 2022   Prob (F-statistic):          2.69e-114\n",
       "Time:                        16:49:10   Log-Likelihood:                -47107.\n",
       "No. Observations:                2641   AIC:                         9.422e+04\n",
       "Df Residuals:                    2638   BIC:                         9.424e+04\n",
       "Df Model:                           2                                         \n",
       "Covariance Type:            nonrobust                                         \n",
       "==============================================================================\n",
       "                 coef    std err          t      P>|t|      [0.025      0.975]\n",
       "------------------------------------------------------------------------------\n",
       "Intercept   1.948e+07   1.52e+06     12.790      0.000    1.65e+07    2.25e+07\n",
       "age        -7.273e+05    6.1e+04    -11.916      0.000   -8.47e+05   -6.08e+05\n",
       "minutes     6627.6153    286.138     23.162      0.000    6066.538    7188.693\n",
       "==============================================================================\n",
       "Omnibus:                     2151.588   Durbin-Watson:                   1.200\n",
       "Prob(Omnibus):                  0.000   Jarque-Bera (JB):            65318.317\n",
       "Skew:                           3.689   Prob(JB):                         0.00\n",
       "Kurtosis:                      26.220   Cond. No.                     9.27e+03\n",
       "==============================================================================\n",
       "\n",
       "Notes:\n",
       "[1] Standard Errors assume that the covariance matrix of the errors is correctly specified.\n",
       "[2] The condition number is large, 9.27e+03. This might indicate that there are\n",
       "strong multicollinearity or other numerical problems.\n",
       "\"\"\""
      ]
     },
     "execution_count": 172,
     "metadata": {},
     "output_type": "execute_result"
    }
   ],
   "source": [
    "outcome, predictors = patsy.dmatrices('value~age+minutes', data=data)\n",
    "mod = sm.OLS(outcome, predictors)\n",
    "res = mod.fit()\n",
    "res.summary()"
   ]
  },
  {
   "cell_type": "code",
   "execution_count": 168,
   "metadata": {},
   "outputs": [
    {
     "data": {
      "text/html": [
       "<table class=\"simpletable\">\n",
       "<caption>OLS Regression Results</caption>\n",
       "<tr>\n",
       "  <th>Dep. Variable:</th>          <td>value</td>      <th>  R-squared:         </th> <td>   0.204</td> \n",
       "</tr>\n",
       "<tr>\n",
       "  <th>Model:</th>                   <td>OLS</td>       <th>  Adj. R-squared:    </th> <td>   0.201</td> \n",
       "</tr>\n",
       "<tr>\n",
       "  <th>Method:</th>             <td>Least Squares</td>  <th>  F-statistic:       </th> <td>   64.97</td> \n",
       "</tr>\n",
       "<tr>\n",
       "  <th>Date:</th>             <td>Sun, 13 Mar 2022</td> <th>  Prob (F-statistic):</th> <td>5.85e-49</td> \n",
       "</tr>\n",
       "<tr>\n",
       "  <th>Time:</th>                 <td>16:47:00</td>     <th>  Log-Likelihood:    </th> <td> -17947.</td> \n",
       "</tr>\n",
       "<tr>\n",
       "  <th>No. Observations:</th>      <td>  1021</td>      <th>  AIC:               </th> <td>3.590e+04</td>\n",
       "</tr>\n",
       "<tr>\n",
       "  <th>Df Residuals:</th>          <td>  1016</td>      <th>  BIC:               </th> <td>3.593e+04</td>\n",
       "</tr>\n",
       "<tr>\n",
       "  <th>Df Model:</th>              <td>     4</td>      <th>                     </th>     <td> </td>    \n",
       "</tr>\n",
       "<tr>\n",
       "  <th>Covariance Type:</th>      <td>nonrobust</td>    <th>                     </th>     <td> </td>    \n",
       "</tr>\n",
       "</table>\n",
       "<table class=\"simpletable\">\n",
       "<tr>\n",
       "        <td></td>           <th>coef</th>     <th>std err</th>      <th>t</th>      <th>P>|t|</th>  <th>[0.025</th>    <th>0.975]</th>  \n",
       "</tr>\n",
       "<tr>\n",
       "  <th>Intercept</th>     <td> 2.006e+07</td> <td> 1.98e+06</td> <td>   10.133</td> <td> 0.000</td> <td> 1.62e+07</td> <td> 2.39e+07</td>\n",
       "</tr>\n",
       "<tr>\n",
       "  <th>age</th>           <td>-7.594e+05</td> <td>  7.9e+04</td> <td>   -9.617</td> <td> 0.000</td> <td>-9.14e+05</td> <td>-6.04e+05</td>\n",
       "</tr>\n",
       "<tr>\n",
       "  <th>minutes</th>       <td> 6709.4537</td> <td>  707.754</td> <td>    9.480</td> <td> 0.000</td> <td> 5320.628</td> <td> 8098.280</td>\n",
       "</tr>\n",
       "<tr>\n",
       "  <th>interceptions</th> <td>-1.188e+05</td> <td> 5.64e+04</td> <td>   -2.106</td> <td> 0.035</td> <td> -2.3e+05</td> <td>-8106.652</td>\n",
       "</tr>\n",
       "<tr>\n",
       "  <th>tackles_won</th>   <td>-1.912e+04</td> <td> 4.57e+04</td> <td>   -0.418</td> <td> 0.676</td> <td>-1.09e+05</td> <td> 7.06e+04</td>\n",
       "</tr>\n",
       "</table>\n",
       "<table class=\"simpletable\">\n",
       "<tr>\n",
       "  <th>Omnibus:</th>       <td>630.736</td> <th>  Durbin-Watson:     </th> <td>   1.226</td>\n",
       "</tr>\n",
       "<tr>\n",
       "  <th>Prob(Omnibus):</th> <td> 0.000</td>  <th>  Jarque-Bera (JB):  </th> <td>6601.385</td>\n",
       "</tr>\n",
       "<tr>\n",
       "  <th>Skew:</th>          <td> 2.722</td>  <th>  Prob(JB):          </th> <td>    0.00</td>\n",
       "</tr>\n",
       "<tr>\n",
       "  <th>Kurtosis:</th>      <td>14.204</td>  <th>  Cond. No.          </th> <td>1.01e+04</td>\n",
       "</tr>\n",
       "</table><br/><br/>Notes:<br/>[1] Standard Errors assume that the covariance matrix of the errors is correctly specified.<br/>[2] The condition number is large, 1.01e+04. This might indicate that there are<br/>strong multicollinearity or other numerical problems."
      ],
      "text/plain": [
       "<class 'statsmodels.iolib.summary.Summary'>\n",
       "\"\"\"\n",
       "                            OLS Regression Results                            \n",
       "==============================================================================\n",
       "Dep. Variable:                  value   R-squared:                       0.204\n",
       "Model:                            OLS   Adj. R-squared:                  0.201\n",
       "Method:                 Least Squares   F-statistic:                     64.97\n",
       "Date:                Sun, 13 Mar 2022   Prob (F-statistic):           5.85e-49\n",
       "Time:                        16:47:00   Log-Likelihood:                -17947.\n",
       "No. Observations:                1021   AIC:                         3.590e+04\n",
       "Df Residuals:                    1016   BIC:                         3.593e+04\n",
       "Df Model:                           4                                         \n",
       "Covariance Type:            nonrobust                                         \n",
       "=================================================================================\n",
       "                    coef    std err          t      P>|t|      [0.025      0.975]\n",
       "---------------------------------------------------------------------------------\n",
       "Intercept      2.006e+07   1.98e+06     10.133      0.000    1.62e+07    2.39e+07\n",
       "age           -7.594e+05    7.9e+04     -9.617      0.000   -9.14e+05   -6.04e+05\n",
       "minutes        6709.4537    707.754      9.480      0.000    5320.628    8098.280\n",
       "interceptions -1.188e+05   5.64e+04     -2.106      0.035    -2.3e+05   -8106.652\n",
       "tackles_won   -1.912e+04   4.57e+04     -0.418      0.676   -1.09e+05    7.06e+04\n",
       "==============================================================================\n",
       "Omnibus:                      630.736   Durbin-Watson:                   1.226\n",
       "Prob(Omnibus):                  0.000   Jarque-Bera (JB):             6601.385\n",
       "Skew:                           2.722   Prob(JB):                         0.00\n",
       "Kurtosis:                      14.204   Cond. No.                     1.01e+04\n",
       "==============================================================================\n",
       "\n",
       "Notes:\n",
       "[1] Standard Errors assume that the covariance matrix of the errors is correctly specified.\n",
       "[2] The condition number is large, 1.01e+04. This might indicate that there are\n",
       "strong multicollinearity or other numerical problems.\n",
       "\"\"\""
      ]
     },
     "execution_count": 168,
     "metadata": {},
     "output_type": "execute_result"
    }
   ],
   "source": [
    "outcome_df, predictors_df = patsy.dmatrices('value~age+minutes+interceptions+tackles_won', data=players_df)\n",
    "mod_df = sm.OLS(outcome_df, predictors_df)\n",
    "res_df = mod_df.fit()\n",
    "res_df.summary()"
   ]
  },
  {
   "cell_type": "markdown",
   "metadata": {},
   "source": [
    "From our OLS results for defenders we can see that younger age, more minutes, having less interceptions, and less tackles leads to higher valued defenders. Less age and more minute leading to a higher valued defender is logical. A possible explaination for less interceptions and tackles leading to higher valued players may be because lower tier divisions/clubs may have lower level of play leading to greater interceptions and tackles per game for lower valued players. However, for high tier divisions/clubs the level of play may be greater leading to less interceptions and tackles per game for high valued players."
   ]
  },
  {
   "cell_type": "code",
   "execution_count": 169,
   "metadata": {},
   "outputs": [
    {
     "data": {
      "text/html": [
       "<table class=\"simpletable\">\n",
       "<caption>OLS Regression Results</caption>\n",
       "<tr>\n",
       "  <th>Dep. Variable:</th>          <td>value</td>      <th>  R-squared:         </th> <td>   0.374</td> \n",
       "</tr>\n",
       "<tr>\n",
       "  <th>Model:</th>                   <td>OLS</td>       <th>  Adj. R-squared:    </th> <td>   0.370</td> \n",
       "</tr>\n",
       "<tr>\n",
       "  <th>Method:</th>             <td>Least Squares</td>  <th>  F-statistic:       </th> <td>   106.2</td> \n",
       "</tr>\n",
       "<tr>\n",
       "  <th>Date:</th>             <td>Sun, 13 Mar 2022</td> <th>  Prob (F-statistic):</th> <td>6.64e-88</td> \n",
       "</tr>\n",
       "<tr>\n",
       "  <th>Time:</th>                 <td>16:47:59</td>     <th>  Log-Likelihood:    </th> <td> -16031.</td> \n",
       "</tr>\n",
       "<tr>\n",
       "  <th>No. Observations:</th>      <td>   895</td>      <th>  AIC:               </th> <td>3.207e+04</td>\n",
       "</tr>\n",
       "<tr>\n",
       "  <th>Df Residuals:</th>          <td>   889</td>      <th>  BIC:               </th> <td>3.210e+04</td>\n",
       "</tr>\n",
       "<tr>\n",
       "  <th>Df Model:</th>              <td>     5</td>      <th>                     </th>     <td> </td>    \n",
       "</tr>\n",
       "<tr>\n",
       "  <th>Covariance Type:</th>      <td>nonrobust</td>    <th>                     </th>     <td> </td>    \n",
       "</tr>\n",
       "</table>\n",
       "<table class=\"simpletable\">\n",
       "<tr>\n",
       "         <td></td>            <th>coef</th>     <th>std err</th>      <th>t</th>      <th>P>|t|</th>  <th>[0.025</th>    <th>0.975]</th>  \n",
       "</tr>\n",
       "<tr>\n",
       "  <th>Intercept</th>       <td> 1.855e+07</td> <td> 2.83e+06</td> <td>    6.545</td> <td> 0.000</td> <td>  1.3e+07</td> <td> 2.41e+07</td>\n",
       "</tr>\n",
       "<tr>\n",
       "  <th>age</th>             <td>-7.516e+05</td> <td> 1.16e+05</td> <td>   -6.479</td> <td> 0.000</td> <td>-9.79e+05</td> <td>-5.24e+05</td>\n",
       "</tr>\n",
       "<tr>\n",
       "  <th>minutes</th>         <td> -894.7649</td> <td>  947.093</td> <td>   -0.945</td> <td> 0.345</td> <td>-2753.563</td> <td>  964.033</td>\n",
       "</tr>\n",
       "<tr>\n",
       "  <th>goals_per90</th>     <td> 8.765e+05</td> <td> 1.02e+06</td> <td>    0.859</td> <td> 0.391</td> <td>-1.13e+06</td> <td> 2.88e+06</td>\n",
       "</tr>\n",
       "<tr>\n",
       "  <th>assists_per90</th>   <td> 1.165e+07</td> <td> 2.89e+06</td> <td>    4.031</td> <td> 0.000</td> <td> 5.98e+06</td> <td> 1.73e+07</td>\n",
       "</tr>\n",
       "<tr>\n",
       "  <th>shots_on_target</th> <td>  1.04e+06</td> <td> 7.62e+04</td> <td>   13.645</td> <td> 0.000</td> <td> 8.91e+05</td> <td> 1.19e+06</td>\n",
       "</tr>\n",
       "</table>\n",
       "<table class=\"simpletable\">\n",
       "<tr>\n",
       "  <th>Omnibus:</th>       <td>613.599</td> <th>  Durbin-Watson:     </th> <td>   1.216</td>\n",
       "</tr>\n",
       "<tr>\n",
       "  <th>Prob(Omnibus):</th> <td> 0.000</td>  <th>  Jarque-Bera (JB):  </th> <td>9947.879</td>\n",
       "</tr>\n",
       "<tr>\n",
       "  <th>Skew:</th>          <td> 2.925</td>  <th>  Prob(JB):          </th> <td>    0.00</td>\n",
       "</tr>\n",
       "<tr>\n",
       "  <th>Kurtosis:</th>      <td>18.249</td>  <th>  Cond. No.          </th> <td>8.57e+03</td>\n",
       "</tr>\n",
       "</table><br/><br/>Notes:<br/>[1] Standard Errors assume that the covariance matrix of the errors is correctly specified.<br/>[2] The condition number is large, 8.57e+03. This might indicate that there are<br/>strong multicollinearity or other numerical problems."
      ],
      "text/plain": [
       "<class 'statsmodels.iolib.summary.Summary'>\n",
       "\"\"\"\n",
       "                            OLS Regression Results                            \n",
       "==============================================================================\n",
       "Dep. Variable:                  value   R-squared:                       0.374\n",
       "Model:                            OLS   Adj. R-squared:                  0.370\n",
       "Method:                 Least Squares   F-statistic:                     106.2\n",
       "Date:                Sun, 13 Mar 2022   Prob (F-statistic):           6.64e-88\n",
       "Time:                        16:47:59   Log-Likelihood:                -16031.\n",
       "No. Observations:                 895   AIC:                         3.207e+04\n",
       "Df Residuals:                     889   BIC:                         3.210e+04\n",
       "Df Model:                           5                                         \n",
       "Covariance Type:            nonrobust                                         \n",
       "===================================================================================\n",
       "                      coef    std err          t      P>|t|      [0.025      0.975]\n",
       "-----------------------------------------------------------------------------------\n",
       "Intercept        1.855e+07   2.83e+06      6.545      0.000     1.3e+07    2.41e+07\n",
       "age             -7.516e+05   1.16e+05     -6.479      0.000   -9.79e+05   -5.24e+05\n",
       "minutes          -894.7649    947.093     -0.945      0.345   -2753.563     964.033\n",
       "goals_per90      8.765e+05   1.02e+06      0.859      0.391   -1.13e+06    2.88e+06\n",
       "assists_per90    1.165e+07   2.89e+06      4.031      0.000    5.98e+06    1.73e+07\n",
       "shots_on_target   1.04e+06   7.62e+04     13.645      0.000    8.91e+05    1.19e+06\n",
       "==============================================================================\n",
       "Omnibus:                      613.599   Durbin-Watson:                   1.216\n",
       "Prob(Omnibus):                  0.000   Jarque-Bera (JB):             9947.879\n",
       "Skew:                           2.925   Prob(JB):                         0.00\n",
       "Kurtosis:                      18.249   Cond. No.                     8.57e+03\n",
       "==============================================================================\n",
       "\n",
       "Notes:\n",
       "[1] Standard Errors assume that the covariance matrix of the errors is correctly specified.\n",
       "[2] The condition number is large, 8.57e+03. This might indicate that there are\n",
       "strong multicollinearity or other numerical problems.\n",
       "\"\"\""
      ]
     },
     "execution_count": 169,
     "metadata": {},
     "output_type": "execute_result"
    }
   ],
   "source": [
    "outcome_fw, predictors_fw = patsy.dmatrices('value~age+minutes+goals_per90+assists_per90+shots_on_target', data=players_fw)\n",
    "mod_fw = sm.OLS(outcome_fw, predictors_fw)\n",
    "res_fw = mod_fw.fit()\n",
    "res_fw.summary()"
   ]
  },
  {
   "cell_type": "markdown",
   "metadata": {},
   "source": [
    "From our OLS results for forward players we can see that younger age, less minutes, more goals, more assists, and more shots on targets lead to higher valued forwards. Less age, more goals. more assists, and more shots on target leading to a higher valued foward is logical. A possible explanation for less minutes leading to higher valued players may be because there are more forwards than any other role. Therefore, forwards are more likely to be rotated or subbed out of the game. Because of this foward player's values are determined more on how well they play instead of how long they play."
   ]
  },
  {
   "cell_type": "code",
   "execution_count": 170,
   "metadata": {},
   "outputs": [
    {
     "data": {
      "text/html": [
       "<table class=\"simpletable\">\n",
       "<caption>OLS Regression Results</caption>\n",
       "<tr>\n",
       "  <th>Dep. Variable:</th>          <td>value</td>      <th>  R-squared:         </th> <td>   0.422</td>\n",
       "</tr>\n",
       "<tr>\n",
       "  <th>Model:</th>                   <td>OLS</td>       <th>  Adj. R-squared:    </th> <td>   0.410</td>\n",
       "</tr>\n",
       "<tr>\n",
       "  <th>Method:</th>             <td>Least Squares</td>  <th>  F-statistic:       </th> <td>   34.50</td>\n",
       "</tr>\n",
       "<tr>\n",
       "  <th>Date:</th>             <td>Sun, 13 Mar 2022</td> <th>  Prob (F-statistic):</th> <td>1.29e-21</td>\n",
       "</tr>\n",
       "<tr>\n",
       "  <th>Time:</th>                 <td>16:48:05</td>     <th>  Log-Likelihood:    </th> <td> -3395.4</td>\n",
       "</tr>\n",
       "<tr>\n",
       "  <th>No. Observations:</th>      <td>   194</td>      <th>  AIC:               </th> <td>   6801.</td>\n",
       "</tr>\n",
       "<tr>\n",
       "  <th>Df Residuals:</th>          <td>   189</td>      <th>  BIC:               </th> <td>   6817.</td>\n",
       "</tr>\n",
       "<tr>\n",
       "  <th>Df Model:</th>              <td>     4</td>      <th>                     </th>     <td> </td>   \n",
       "</tr>\n",
       "<tr>\n",
       "  <th>Covariance Type:</th>      <td>nonrobust</td>    <th>                     </th>     <td> </td>   \n",
       "</tr>\n",
       "</table>\n",
       "<table class=\"simpletable\">\n",
       "<tr>\n",
       "        <td></td>          <th>coef</th>     <th>std err</th>      <th>t</th>      <th>P>|t|</th>  <th>[0.025</th>    <th>0.975]</th>  \n",
       "</tr>\n",
       "<tr>\n",
       "  <th>Intercept</th>    <td> 1.477e+07</td> <td> 4.66e+06</td> <td>    3.169</td> <td> 0.002</td> <td> 5.58e+06</td> <td>  2.4e+07</td>\n",
       "</tr>\n",
       "<tr>\n",
       "  <th>age</th>          <td>-5.048e+05</td> <td> 1.51e+05</td> <td>   -3.345</td> <td> 0.001</td> <td>-8.03e+05</td> <td>-2.07e+05</td>\n",
       "</tr>\n",
       "<tr>\n",
       "  <th>minutes</th>      <td>-1328.8831</td> <td> 1030.433</td> <td>   -1.290</td> <td> 0.199</td> <td>-3361.511</td> <td>  703.745</td>\n",
       "</tr>\n",
       "<tr>\n",
       "  <th>clean_sheets</th> <td> 2.044e+06</td> <td> 2.85e+05</td> <td>    7.181</td> <td> 0.000</td> <td> 1.48e+06</td> <td> 2.61e+06</td>\n",
       "</tr>\n",
       "<tr>\n",
       "  <th>save_pct</th>     <td> -169.4490</td> <td>  460.177</td> <td>   -0.368</td> <td> 0.713</td> <td>-1077.193</td> <td>  738.295</td>\n",
       "</tr>\n",
       "</table>\n",
       "<table class=\"simpletable\">\n",
       "<tr>\n",
       "  <th>Omnibus:</th>       <td>141.043</td> <th>  Durbin-Watson:     </th> <td>   2.024</td>\n",
       "</tr>\n",
       "<tr>\n",
       "  <th>Prob(Omnibus):</th> <td> 0.000</td>  <th>  Jarque-Bera (JB):  </th> <td>1433.353</td>\n",
       "</tr>\n",
       "<tr>\n",
       "  <th>Skew:</th>          <td> 2.706</td>  <th>  Prob(JB):          </th> <td>    0.00</td>\n",
       "</tr>\n",
       "<tr>\n",
       "  <th>Kurtosis:</th>      <td>15.167</td>  <th>  Cond. No.          </th> <td>4.62e+04</td>\n",
       "</tr>\n",
       "</table><br/><br/>Notes:<br/>[1] Standard Errors assume that the covariance matrix of the errors is correctly specified.<br/>[2] The condition number is large, 4.62e+04. This might indicate that there are<br/>strong multicollinearity or other numerical problems."
      ],
      "text/plain": [
       "<class 'statsmodels.iolib.summary.Summary'>\n",
       "\"\"\"\n",
       "                            OLS Regression Results                            \n",
       "==============================================================================\n",
       "Dep. Variable:                  value   R-squared:                       0.422\n",
       "Model:                            OLS   Adj. R-squared:                  0.410\n",
       "Method:                 Least Squares   F-statistic:                     34.50\n",
       "Date:                Sun, 13 Mar 2022   Prob (F-statistic):           1.29e-21\n",
       "Time:                        16:48:05   Log-Likelihood:                -3395.4\n",
       "No. Observations:                 194   AIC:                             6801.\n",
       "Df Residuals:                     189   BIC:                             6817.\n",
       "Df Model:                           4                                         \n",
       "Covariance Type:            nonrobust                                         \n",
       "================================================================================\n",
       "                   coef    std err          t      P>|t|      [0.025      0.975]\n",
       "--------------------------------------------------------------------------------\n",
       "Intercept     1.477e+07   4.66e+06      3.169      0.002    5.58e+06     2.4e+07\n",
       "age          -5.048e+05   1.51e+05     -3.345      0.001   -8.03e+05   -2.07e+05\n",
       "minutes      -1328.8831   1030.433     -1.290      0.199   -3361.511     703.745\n",
       "clean_sheets  2.044e+06   2.85e+05      7.181      0.000    1.48e+06    2.61e+06\n",
       "save_pct      -169.4490    460.177     -0.368      0.713   -1077.193     738.295\n",
       "==============================================================================\n",
       "Omnibus:                      141.043   Durbin-Watson:                   2.024\n",
       "Prob(Omnibus):                  0.000   Jarque-Bera (JB):             1433.353\n",
       "Skew:                           2.706   Prob(JB):                         0.00\n",
       "Kurtosis:                      15.167   Cond. No.                     4.62e+04\n",
       "==============================================================================\n",
       "\n",
       "Notes:\n",
       "[1] Standard Errors assume that the covariance matrix of the errors is correctly specified.\n",
       "[2] The condition number is large, 4.62e+04. This might indicate that there are\n",
       "strong multicollinearity or other numerical problems.\n",
       "\"\"\""
      ]
     },
     "execution_count": 170,
     "metadata": {},
     "output_type": "execute_result"
    }
   ],
   "source": [
    "outcome_gk, predictors_gk = patsy.dmatrices('value~age+minutes+clean_sheets+save_pct', data=players_gk)\n",
    "mod_gk = sm.OLS(outcome_gk, predictors_gk)\n",
    "res_gk = mod_gk.fit()\n",
    "res_gk.summary()"
   ]
  },
  {
   "cell_type": "markdown",
   "metadata": {},
   "source": [
    "From our OLS results for goalkeepers we can see that younger age, less minutes, less save percentage, and more clean sheets lead to higher valued goalkeepers. Less age and more clean sheets leading to a higher valued goalkeeper is logical. A possible explanation for less minutes leading to higher valued players may be because low tier clubs/divisions usually only have one or two goalkeepers leading to greater mintues for lower valued players. A possible explanation for less save percentage leading to higher valued players may be because low tier divisons/clubs goal keepers face more score attempts than in higher tier clubs/divisons leading to lower valued goal keepers having greater save percentage. However, we believe clean sheets are a better determining factor than save percentage, because higher valued players in higher divisions/clubs would have more clean sheets than low valued players in lower divisions/clubs."
   ]
  },
  {
   "cell_type": "code",
   "execution_count": 171,
   "metadata": {},
   "outputs": [
    {
     "data": {
      "text/html": [
       "<table class=\"simpletable\">\n",
       "<caption>OLS Regression Results</caption>\n",
       "<tr>\n",
       "  <th>Dep. Variable:</th>          <td>value</td>      <th>  R-squared:         </th> <td>   0.268</td> \n",
       "</tr>\n",
       "<tr>\n",
       "  <th>Model:</th>                   <td>OLS</td>       <th>  Adj. R-squared:    </th> <td>   0.265</td> \n",
       "</tr>\n",
       "<tr>\n",
       "  <th>Method:</th>             <td>Least Squares</td>  <th>  F-statistic:       </th> <td>   86.68</td> \n",
       "</tr>\n",
       "<tr>\n",
       "  <th>Date:</th>             <td>Sun, 13 Mar 2022</td> <th>  Prob (F-statistic):</th> <td>9.84e-78</td> \n",
       "</tr>\n",
       "<tr>\n",
       "  <th>Time:</th>                 <td>16:48:11</td>     <th>  Log-Likelihood:    </th> <td> -21128.</td> \n",
       "</tr>\n",
       "<tr>\n",
       "  <th>No. Observations:</th>      <td>  1189</td>      <th>  AIC:               </th> <td>4.227e+04</td>\n",
       "</tr>\n",
       "<tr>\n",
       "  <th>Df Residuals:</th>          <td>  1183</td>      <th>  BIC:               </th> <td>4.230e+04</td>\n",
       "</tr>\n",
       "<tr>\n",
       "  <th>Df Model:</th>              <td>     5</td>      <th>                     </th>     <td> </td>    \n",
       "</tr>\n",
       "<tr>\n",
       "  <th>Covariance Type:</th>      <td>nonrobust</td>    <th>                     </th>     <td> </td>    \n",
       "</tr>\n",
       "</table>\n",
       "<table class=\"simpletable\">\n",
       "<tr>\n",
       "        <td></td>           <th>coef</th>     <th>std err</th>      <th>t</th>      <th>P>|t|</th>  <th>[0.025</th>    <th>0.975]</th>  \n",
       "</tr>\n",
       "<tr>\n",
       "  <th>Intercept</th>     <td>-3.105e+05</td> <td> 3.37e+06</td> <td>   -0.092</td> <td> 0.927</td> <td>-6.92e+06</td> <td>  6.3e+06</td>\n",
       "</tr>\n",
       "<tr>\n",
       "  <th>age</th>           <td>-6.574e+05</td> <td> 8.87e+04</td> <td>   -7.412</td> <td> 0.000</td> <td>-8.31e+05</td> <td>-4.83e+05</td>\n",
       "</tr>\n",
       "<tr>\n",
       "  <th>minutes</th>       <td> 8624.7192</td> <td>  675.046</td> <td>   12.776</td> <td> 0.000</td> <td> 7300.299</td> <td> 9949.140</td>\n",
       "</tr>\n",
       "<tr>\n",
       "  <th>assists_per90</th> <td> 1.954e+07</td> <td> 2.46e+06</td> <td>    7.949</td> <td> 0.000</td> <td> 1.47e+07</td> <td> 2.44e+07</td>\n",
       "</tr>\n",
       "<tr>\n",
       "  <th>passes_pct</th>    <td>  2.14e+05</td> <td> 3.35e+04</td> <td>    6.385</td> <td> 0.000</td> <td> 1.48e+05</td> <td>  2.8e+05</td>\n",
       "</tr>\n",
       "<tr>\n",
       "  <th>interceptions</th> <td>-2.413e+05</td> <td> 6.19e+04</td> <td>   -3.898</td> <td> 0.000</td> <td>-3.63e+05</td> <td> -1.2e+05</td>\n",
       "</tr>\n",
       "</table>\n",
       "<table class=\"simpletable\">\n",
       "<tr>\n",
       "  <th>Omnibus:</th>       <td>802.938</td> <th>  Durbin-Watson:     </th> <td>   1.438</td> \n",
       "</tr>\n",
       "<tr>\n",
       "  <th>Prob(Omnibus):</th> <td> 0.000</td>  <th>  Jarque-Bera (JB):  </th> <td>12220.294</td>\n",
       "</tr>\n",
       "<tr>\n",
       "  <th>Skew:</th>          <td> 2.940</td>  <th>  Prob(JB):          </th> <td>    0.00</td> \n",
       "</tr>\n",
       "<tr>\n",
       "  <th>Kurtosis:</th>      <td>17.563</td>  <th>  Cond. No.          </th> <td>1.37e+04</td> \n",
       "</tr>\n",
       "</table><br/><br/>Notes:<br/>[1] Standard Errors assume that the covariance matrix of the errors is correctly specified.<br/>[2] The condition number is large, 1.37e+04. This might indicate that there are<br/>strong multicollinearity or other numerical problems."
      ],
      "text/plain": [
       "<class 'statsmodels.iolib.summary.Summary'>\n",
       "\"\"\"\n",
       "                            OLS Regression Results                            \n",
       "==============================================================================\n",
       "Dep. Variable:                  value   R-squared:                       0.268\n",
       "Model:                            OLS   Adj. R-squared:                  0.265\n",
       "Method:                 Least Squares   F-statistic:                     86.68\n",
       "Date:                Sun, 13 Mar 2022   Prob (F-statistic):           9.84e-78\n",
       "Time:                        16:48:11   Log-Likelihood:                -21128.\n",
       "No. Observations:                1189   AIC:                         4.227e+04\n",
       "Df Residuals:                    1183   BIC:                         4.230e+04\n",
       "Df Model:                           5                                         \n",
       "Covariance Type:            nonrobust                                         \n",
       "=================================================================================\n",
       "                    coef    std err          t      P>|t|      [0.025      0.975]\n",
       "---------------------------------------------------------------------------------\n",
       "Intercept     -3.105e+05   3.37e+06     -0.092      0.927   -6.92e+06     6.3e+06\n",
       "age           -6.574e+05   8.87e+04     -7.412      0.000   -8.31e+05   -4.83e+05\n",
       "minutes        8624.7192    675.046     12.776      0.000    7300.299    9949.140\n",
       "assists_per90  1.954e+07   2.46e+06      7.949      0.000    1.47e+07    2.44e+07\n",
       "passes_pct      2.14e+05   3.35e+04      6.385      0.000    1.48e+05     2.8e+05\n",
       "interceptions -2.413e+05   6.19e+04     -3.898      0.000   -3.63e+05    -1.2e+05\n",
       "==============================================================================\n",
       "Omnibus:                      802.938   Durbin-Watson:                   1.438\n",
       "Prob(Omnibus):                  0.000   Jarque-Bera (JB):            12220.294\n",
       "Skew:                           2.940   Prob(JB):                         0.00\n",
       "Kurtosis:                      17.563   Cond. No.                     1.37e+04\n",
       "==============================================================================\n",
       "\n",
       "Notes:\n",
       "[1] Standard Errors assume that the covariance matrix of the errors is correctly specified.\n",
       "[2] The condition number is large, 1.37e+04. This might indicate that there are\n",
       "strong multicollinearity or other numerical problems.\n",
       "\"\"\""
      ]
     },
     "execution_count": 171,
     "metadata": {},
     "output_type": "execute_result"
    }
   ],
   "source": [
    "outcome_mf, predictors_mf = patsy.dmatrices('value~age+minutes+assists_per90+passes_pct+interceptions', data=players_mf)\n",
    "mod_mf = sm.OLS(outcome_mf, predictors_mf)\n",
    "res_mf = mod_mf.fit()\n",
    "res_mf.summary()"
   ]
  },
  {
   "cell_type": "markdown",
   "metadata": {},
   "source": [
    "From our OLS results for mid fielders we can see that younger age, more minutes, more assists, more passes, and less interceptions lead to higher valued mid fielders. Less age, more minute, more assists, and more passes leading to a higher valued midfielder is logical. A possible explanation for less interceptions leading to higher valued players may be because greater interceptions usually means the player is a defensive mid fielder and defensive mid fielder get valued less than attacking mid fielders."
   ]
  },
  {
   "cell_type": "markdown",
   "metadata": {},
   "source": [
    "# Ethics & Privacy"
   ]
  },
  {
   "cell_type": "markdown",
   "metadata": {},
   "source": [
    "All of the data sets and data snippets that will be used in our project will be publically available data. We took our data off of Kaggle, but an issue with Kaggle sets is that they are often aggregated, scraped data from different sources where we're unsure of whether the data is scrapable. However, with football/soccer specifically, many data sets scrape from Transfermarkt. The site is widely agreed upon to be one of the most reputable and reliable site for statistics on football players, referenced by various news publications and even some agents. Since the data concerns player statistics related to their performance on the field and metadata about such as who they play for, which are all publically available or observable, we do not believe that this will violate their privacy."
   ]
  },
  {
   "cell_type": "markdown",
   "metadata": {},
   "source": [
    "# Conclusion & Discussion"
   ]
  },
  {
   "cell_type": "markdown",
   "metadata": {},
   "source": [
    "We find that overall, a lower age along with more minutes played on the field correlate with higher valuation on the market. For performance metrics specific to certain positions, we find that some metrics did not positively correlate with higher values as we would expect, such as the save percentages for goalkeepers and interceptions for midfielders. One confounding variable we are thinking about is that the difference between high and low level play can skew the metrics in different ways. Further research can be done into this aspect to apply this analysis to a specific set of players."
   ]
  },
  {
   "cell_type": "markdown",
   "metadata": {},
   "source": [
    "# Team Contributions"
   ]
  },
  {
   "cell_type": "markdown",
   "metadata": {},
   "source": [
    "Selim - background research, domain knowledge and expertise, conclusion\n",
    "\n",
    "Brian - EDA, further analysis coding\n",
    "\n",
    "Eric - EDA, further analysis coding\n",
    "\n",
    "Francesco - EDA, ethics, data cleaning\n",
    "\n",
    "Alex - conclusion, overview, data cleaning"
   ]
  }
 ],
 "metadata": {
  "kernelspec": {
   "display_name": "Python 3",
   "language": "python",
   "name": "python3"
  },
  "language_info": {
   "codemirror_mode": {
    "name": "ipython",
    "version": 3
   },
   "file_extension": ".py",
   "mimetype": "text/x-python",
   "name": "python",
   "nbconvert_exporter": "python",
   "pygments_lexer": "ipython3",
   "version": "3.8.8"
  }
 },
 "nbformat": 4,
 "nbformat_minor": 2
}
